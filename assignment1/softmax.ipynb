{
 "cells": [
  {
   "cell_type": "markdown",
   "metadata": {},
   "source": [
    "# Softmax exercise\n",
    "\n",
    "*Complete and hand in this completed worksheet (including its outputs and any supporting code outside of the worksheet) with your assignment submission. For more details see the [assignments page](http://vision.stanford.edu/teaching/cs231n/assignments.html) on the course website.*\n",
    "\n",
    "This exercise is analogous to the SVM exercise. You will:\n",
    "\n",
    "- implement a fully-vectorized **loss function** for the Softmax classifier\n",
    "- implement the fully-vectorized expression for its **analytic gradient**\n",
    "- **check your implementation** with numerical gradient\n",
    "- use a validation set to **tune the learning rate and regularization** strength\n",
    "- **optimize** the loss function with **SGD**\n",
    "- **visualize** the final learned weights\n"
   ]
  },
  {
   "cell_type": "code",
   "execution_count": 2,
   "metadata": {
    "collapsed": false
   },
   "outputs": [],
   "source": [
    "import random\n",
    "import numpy as np\n",
    "from cs231n.data_utils import load_CIFAR10\n",
    "import matplotlib.pyplot as plt\n",
    "\n",
    "from __future__ import print_function\n",
    "\n",
    "%matplotlib inline\n",
    "plt.rcParams['figure.figsize'] = (10.0, 8.0) # set default size of plots\n",
    "plt.rcParams['image.interpolation'] = 'nearest'\n",
    "plt.rcParams['image.cmap'] = 'gray'\n",
    "\n",
    "# for auto-reloading extenrnal modules\n",
    "# see http://stackoverflow.com/questions/1907993/autoreload-of-modules-in-ipython\n",
    "%load_ext autoreload\n",
    "%autoreload 2"
   ]
  },
  {
   "cell_type": "code",
   "execution_count": 3,
   "metadata": {
    "collapsed": false
   },
   "outputs": [
    {
     "name": "stdout",
     "output_type": "stream",
     "text": [
      "Train data shape:  (49000, 3073)\n",
      "Train labels shape:  (49000,)\n",
      "Validation data shape:  (1000, 3073)\n",
      "Validation labels shape:  (1000,)\n",
      "Test data shape:  (1000, 3073)\n",
      "Test labels shape:  (1000,)\n",
      "dev data shape:  (500, 3073)\n",
      "dev labels shape:  (500,)\n"
     ]
    }
   ],
   "source": [
    "def get_CIFAR10_data(num_training=49000, num_validation=1000, num_test=1000, num_dev=500):\n",
    "    \"\"\"\n",
    "    Load the CIFAR-10 dataset from disk and perform preprocessing to prepare\n",
    "    it for the linear classifier. These are the same steps as we used for the\n",
    "    SVM, but condensed to a single function.  \n",
    "    \"\"\"\n",
    "    # Load the raw CIFAR-10 data\n",
    "    cifar10_dir = 'cs231n/datasets/cifar-10-batches-py'\n",
    "    X_train, y_train, X_test, y_test = load_CIFAR10(cifar10_dir)\n",
    "    \n",
    "    # subsample the data\n",
    "    mask = list(range(num_training, num_training + num_validation))\n",
    "    X_val = X_train[mask]\n",
    "    y_val = y_train[mask]\n",
    "    mask = list(range(num_training))\n",
    "    X_train = X_train[mask]\n",
    "    y_train = y_train[mask]\n",
    "    mask = list(range(num_test))\n",
    "    X_test = X_test[mask]\n",
    "    y_test = y_test[mask]\n",
    "    mask = np.random.choice(num_training, num_dev, replace=False)\n",
    "    X_dev = X_train[mask]\n",
    "    y_dev = y_train[mask]\n",
    "    \n",
    "    # Preprocessing: reshape the image data into rows\n",
    "    X_train = np.reshape(X_train, (X_train.shape[0], -1))\n",
    "    X_val = np.reshape(X_val, (X_val.shape[0], -1))\n",
    "    X_test = np.reshape(X_test, (X_test.shape[0], -1))\n",
    "    X_dev = np.reshape(X_dev, (X_dev.shape[0], -1))\n",
    "    \n",
    "    # Normalize the data: subtract the mean image\n",
    "    mean_image = np.mean(X_train, axis = 0)\n",
    "    X_train -= mean_image\n",
    "    X_val -= mean_image\n",
    "    X_test -= mean_image\n",
    "    X_dev -= mean_image\n",
    "    \n",
    "    # add bias dimension and transform into columns\n",
    "    X_train = np.hstack([X_train, np.ones((X_train.shape[0], 1))])\n",
    "    X_val = np.hstack([X_val, np.ones((X_val.shape[0], 1))])\n",
    "    X_test = np.hstack([X_test, np.ones((X_test.shape[0], 1))])\n",
    "    X_dev = np.hstack([X_dev, np.ones((X_dev.shape[0], 1))])\n",
    "    \n",
    "    return X_train, y_train, X_val, y_val, X_test, y_test, X_dev, y_dev\n",
    "\n",
    "\n",
    "# Invoke the above function to get our data.\n",
    "X_train, y_train, X_val, y_val, X_test, y_test, X_dev, y_dev = get_CIFAR10_data()\n",
    "print('Train data shape: ', X_train.shape)\n",
    "print('Train labels shape: ', y_train.shape)\n",
    "print('Validation data shape: ', X_val.shape)\n",
    "print('Validation labels shape: ', y_val.shape)\n",
    "print('Test data shape: ', X_test.shape)\n",
    "print('Test labels shape: ', y_test.shape)\n",
    "print('dev data shape: ', X_dev.shape)\n",
    "print('dev labels shape: ', y_dev.shape)"
   ]
  },
  {
   "cell_type": "markdown",
   "metadata": {},
   "source": [
    "## Softmax Classifier\n",
    "\n",
    "Your code for this section will all be written inside **cs231n/classifiers/softmax.py**. \n"
   ]
  },
  {
   "cell_type": "code",
   "execution_count": 4,
   "metadata": {
    "collapsed": false
   },
   "outputs": [
    {
     "name": "stdout",
     "output_type": "stream",
     "text": [
      "loss: 2.313941\n",
      "sanity check: 2.302585\n"
     ]
    }
   ],
   "source": [
    "# First implement the naive softmax loss function with nested loops.\n",
    "# Open the file cs231n/classifiers/softmax.py and implement the\n",
    "# softmax_loss_naive function.\n",
    "\n",
    "from cs231n.classifiers.softmax import softmax_loss_naive\n",
    "import time\n",
    "\n",
    "# Generate a random softmax weight matrix and use it to compute the loss.\n",
    "W = np.random.randn(3073, 10) * 0.0001\n",
    "loss, grad = softmax_loss_naive(W, X_dev, y_dev, 0.0)\n",
    "\n",
    "# As a rough sanity check, our loss should be something close to -log(0.1).\n",
    "print('loss: %f' % loss)\n",
    "print('sanity check: %f' % (-np.log(0.1)))"
   ]
  },
  {
   "cell_type": "markdown",
   "metadata": {},
   "source": [
    "## Inline Question 1:\n",
    "Why do we expect our loss to be close to -log(0.1)? Explain briefly.**\n",
    "\n",
    "**Your answer:** *Fill this in*\n"
   ]
  },
  {
   "cell_type": "code",
   "execution_count": 25,
   "metadata": {
    "collapsed": false
   },
   "outputs": [
    {
     "name": "stdout",
     "output_type": "stream",
     "text": [
      "numerical: -0.349908 analytic: -0.349908, relative error: 2.238509e-08\n",
      "numerical: 0.066266 analytic: 0.066266, relative error: 4.548776e-08\n",
      "numerical: -0.732365 analytic: -0.732365, relative error: 1.517903e-08\n",
      "numerical: 0.781793 analytic: 0.781793, relative error: 4.169831e-08\n",
      "numerical: 0.913635 analytic: 0.913635, relative error: 4.169131e-08\n",
      "numerical: 1.934329 analytic: 1.934329, relative error: 1.230089e-08\n",
      "numerical: 1.394394 analytic: 1.394394, relative error: 6.940162e-08\n",
      "numerical: -0.315500 analytic: -0.315500, relative error: 4.665295e-08\n",
      "numerical: 1.379405 analytic: 1.379405, relative error: 5.117230e-08\n",
      "numerical: -0.791300 analytic: -0.791300, relative error: 8.042537e-09\n",
      "numerical: 1.424735 analytic: 1.424735, relative error: 7.002774e-09\n",
      "numerical: -0.371315 analytic: -0.371315, relative error: 1.085288e-07\n",
      "numerical: 0.716644 analytic: 0.716644, relative error: 3.629665e-08\n",
      "numerical: -1.559967 analytic: -1.559967, relative error: 3.067099e-08\n",
      "numerical: 1.762463 analytic: 1.762463, relative error: 5.045821e-08\n",
      "numerical: 0.611623 analytic: 0.611623, relative error: 5.553055e-08\n",
      "numerical: 2.349319 analytic: 2.349319, relative error: 1.734006e-08\n",
      "numerical: 0.756159 analytic: 0.756159, relative error: 5.618566e-09\n",
      "numerical: 0.181035 analytic: 0.181035, relative error: 5.082753e-08\n",
      "numerical: -0.519811 analytic: -0.519811, relative error: 1.607068e-09\n"
     ]
    }
   ],
   "source": [
    "# Complete the implementation of softmax_loss_naive and implement a (naive)\n",
    "# version of the gradient that uses nested loops.\n",
    "loss, grad = softmax_loss_naive(W, X_dev, y_dev, 0.0)\n",
    "\n",
    "# As we did for the SVM, use numeric gradient checking as a debugging tool.\n",
    "# The numeric gradient should be close to the analytic gradient.\n",
    "from cs231n.gradient_check import grad_check_sparse\n",
    "f = lambda w: softmax_loss_naive(w, X_dev, y_dev, 0.0)[0]\n",
    "grad_numerical = grad_check_sparse(f, W, grad, 10)\n",
    "\n",
    "# similar to SVM case, do another gradient check with regularization\n",
    "loss, grad = softmax_loss_naive(W, X_dev, y_dev, 5e1)\n",
    "f = lambda w: softmax_loss_naive(w, X_dev, y_dev, 5e1)[0]\n",
    "grad_numerical = grad_check_sparse(f, W, grad, 10)"
   ]
  },
  {
   "cell_type": "code",
   "execution_count": 28,
   "metadata": {
    "collapsed": false
   },
   "outputs": [
    {
     "name": "stdout",
     "output_type": "stream",
     "text": [
      "naive loss: 2.313941e+00 computed in 0.067025s\n",
      "vectorized loss: 2.313941e+00 computed in 0.010535s\n",
      "Loss difference: 0.000000\n",
      "Gradient difference: 0.000000\n"
     ]
    }
   ],
   "source": [
    "# Now that we have a naive implementation of the softmax loss function and its gradient,\n",
    "# implement a vectorized version in softmax_loss_vectorized.\n",
    "# The two versions should compute the same results, but the vectorized version should be\n",
    "# much faster.\n",
    "tic = time.time()\n",
    "loss_naive, grad_naive = softmax_loss_naive(W, X_dev, y_dev, 0.000005)\n",
    "toc = time.time()\n",
    "print('naive loss: %e computed in %fs' % (loss_naive, toc - tic))\n",
    "\n",
    "from cs231n.classifiers.softmax import softmax_loss_vectorized\n",
    "tic = time.time()\n",
    "loss_vectorized, grad_vectorized = softmax_loss_vectorized(W, X_dev, y_dev, 0.000005)\n",
    "toc = time.time()\n",
    "print('vectorized loss: %e computed in %fs' % (loss_vectorized, toc - tic))\n",
    "\n",
    "# As we did for the SVM, we use the Frobenius norm to compare the two versions\n",
    "# of the gradient.\n",
    "grad_difference = np.linalg.norm(grad_naive - grad_vectorized, ord='fro')\n",
    "print('Loss difference: %f' % np.abs(loss_naive - loss_vectorized))\n",
    "print('Gradient difference: %f' % grad_difference)"
   ]
  },
  {
   "cell_type": "code",
   "execution_count": 31,
   "metadata": {
    "collapsed": false
   },
   "outputs": [
    {
     "name": "stdout",
     "output_type": "stream",
     "text": [
      "iteration 0 / 2000: loss 6.464503\n",
      "iteration 100 / 2000: loss 2.800570\n",
      "iteration 200 / 2000: loss 2.324671\n",
      "iteration 300 / 2000: loss 2.132817\n",
      "iteration 400 / 2000: loss 1.966174\n",
      "iteration 500 / 2000: loss 2.031705\n",
      "iteration 600 / 2000: loss 2.021982\n",
      "iteration 700 / 2000: loss 1.984408\n",
      "iteration 800 / 2000: loss 2.044734\n",
      "iteration 900 / 2000: loss 2.043495\n",
      "iteration 1000 / 2000: loss 2.015948\n",
      "iteration 1100 / 2000: loss 2.014946\n",
      "iteration 1200 / 2000: loss 2.003735\n",
      "iteration 1300 / 2000: loss 2.031702\n",
      "iteration 1400 / 2000: loss 1.974034\n",
      "iteration 1500 / 2000: loss 1.990053\n",
      "iteration 1600 / 2000: loss 2.008508\n",
      "iteration 1700 / 2000: loss 2.045186\n",
      "iteration 1800 / 2000: loss 1.967569\n",
      "iteration 1900 / 2000: loss 2.005056\n",
      "(49000,)\n",
      "training accuracy: 0.327102\n",
      "(1000,)\n",
      "validation accuracy: 0.353000\n",
      "iteration 0 / 2000: loss 5.036434\n",
      "iteration 100 / 2000: loss 2.903422\n",
      "iteration 200 / 2000: loss 2.337754\n",
      "iteration 300 / 2000: loss 2.107901\n",
      "iteration 400 / 2000: loss 2.029716\n",
      "iteration 500 / 2000: loss 2.032035\n",
      "iteration 600 / 2000: loss 1.958022\n",
      "iteration 700 / 2000: loss 1.994440\n",
      "iteration 800 / 2000: loss 1.983333\n",
      "iteration 900 / 2000: loss 1.989702\n",
      "iteration 1000 / 2000: loss 1.986578\n",
      "iteration 1100 / 2000: loss 1.959343\n",
      "iteration 1200 / 2000: loss 2.048138\n",
      "iteration 1300 / 2000: loss 2.052063\n",
      "iteration 1400 / 2000: loss 1.981703\n",
      "iteration 1500 / 2000: loss 1.992486\n",
      "iteration 1600 / 2000: loss 2.030613\n",
      "iteration 1700 / 2000: loss 1.962167\n",
      "iteration 1800 / 2000: loss 2.002188\n",
      "iteration 1900 / 2000: loss 2.035481\n",
      "(49000,)\n",
      "training accuracy: 0.332184\n",
      "(1000,)\n",
      "validation accuracy: 0.339000\n",
      "iteration 0 / 2000: loss 5.433892\n",
      "iteration 100 / 2000: loss 2.750208\n",
      "iteration 200 / 2000: loss 2.278480\n",
      "iteration 300 / 2000: loss 2.114163\n",
      "iteration 400 / 2000: loss 2.011003\n",
      "iteration 500 / 2000: loss 2.008128\n",
      "iteration 600 / 2000: loss 1.976164\n",
      "iteration 700 / 2000: loss 2.064918\n",
      "iteration 800 / 2000: loss 1.974095\n",
      "iteration 900 / 2000: loss 1.978343\n",
      "iteration 1000 / 2000: loss 1.999262\n",
      "iteration 1100 / 2000: loss 1.939058\n",
      "iteration 1200 / 2000: loss 2.040310\n",
      "iteration 1300 / 2000: loss 2.023610\n",
      "iteration 1400 / 2000: loss 1.972145\n",
      "iteration 1500 / 2000: loss 1.910975\n",
      "iteration 1600 / 2000: loss 1.968705\n",
      "iteration 1700 / 2000: loss 2.034229\n",
      "iteration 1800 / 2000: loss 1.981325\n",
      "iteration 1900 / 2000: loss 1.987299\n",
      "(49000,)\n",
      "training accuracy: 0.322694\n",
      "(1000,)\n",
      "validation accuracy: 0.343000\n",
      "iteration 0 / 2000: loss 6.364717\n",
      "iteration 100 / 2000: loss 3.014799\n",
      "iteration 200 / 2000: loss 2.318639\n",
      "iteration 300 / 2000: loss 2.113125\n",
      "iteration 400 / 2000: loss 2.050602\n",
      "iteration 500 / 2000: loss 1.975985\n",
      "iteration 600 / 2000: loss 1.940141\n",
      "iteration 700 / 2000: loss 2.092748\n",
      "iteration 800 / 2000: loss 1.944464\n",
      "iteration 900 / 2000: loss 1.965423\n",
      "iteration 1000 / 2000: loss 1.989228\n",
      "iteration 1100 / 2000: loss 1.987532\n",
      "iteration 1200 / 2000: loss 2.018662\n",
      "iteration 1300 / 2000: loss 1.892438\n",
      "iteration 1400 / 2000: loss 2.021096\n",
      "iteration 1500 / 2000: loss 2.027404\n",
      "iteration 1600 / 2000: loss 2.051985\n",
      "iteration 1700 / 2000: loss 1.959582\n",
      "iteration 1800 / 2000: loss 2.021417\n",
      "iteration 1900 / 2000: loss 2.055001\n",
      "(49000,)\n",
      "training accuracy: 0.326776\n",
      "(1000,)\n",
      "validation accuracy: 0.341000\n",
      "lr 1.000000e-07 reg 2.500000e+04 train accuracy: 0.327102 val accuracy: 0.353000\n",
      "lr 1.000000e-07 reg 5.000000e+04 train accuracy: 0.332184 val accuracy: 0.339000\n",
      "lr 5.000000e-07 reg 2.500000e+04 train accuracy: 0.322694 val accuracy: 0.343000\n",
      "lr 5.000000e-07 reg 5.000000e+04 train accuracy: 0.326776 val accuracy: 0.341000\n",
      "best validation accuracy achieved during cross-validation: 0.353000\n"
     ]
    }
   ],
   "source": [
    "# Use the validation set to tune hyperparameters (regularization strength and\n",
    "# learning rate). You should experiment with different ranges for the learning\n",
    "# rates and regularization strengths; if you are careful you should be able to\n",
    "# get a classification accuracy of over 0.35 on the validation set.\n",
    "from cs231n.classifiers import Softmax\n",
    "results = {}\n",
    "best_val = -1\n",
    "best_softmax = None\n",
    "learning_rates = [1e-7, 5e-7]\n",
    "regularization_strengths = [2.5e4, 5e4]\n",
    "################################################################################\n",
    "# TODO:                                                                        #\n",
    "# Use the validation set to set the learning rate and regularization strength. #\n",
    "# This should be identical to the validation that you did for the SVM; save    #\n",
    "# the best trained softmax classifer in best_softmax.                          #\n",
    "################################################################################\n",
    "for lr in learning_rates:\n",
    "    for reg in regularization_strengths:\n",
    "        softmax = Softmax()\n",
    "        softmax.train(X_train, y_train, learning_rate=1e-7, reg=2.5e4,\n",
    "                      num_iters=2000, verbose=True)\n",
    "        y_train_pred = softmax.predict(X_train)\n",
    "        y_train_acc = np.mean(y_train == y_train_pred)\n",
    "        print('training accuracy: %f' % y_train_acc)\n",
    "        y_val_pred = softmax.predict(X_val)\n",
    "        y_val_acc = np.mean(y_val == y_val_pred)\n",
    "        print('validation accuracy: %f' % y_val_acc)\n",
    "        results[(lr, reg)] = (y_train_acc, y_val_acc)\n",
    "        if best_val < y_val_acc:\n",
    "            best_val = y_val_acc\n",
    "            best_softmax = softmax\n",
    "################################################################################\n",
    "#                              END OF YOUR CODE                                #\n",
    "################################################################################\n",
    "    \n",
    "# Print out results.\n",
    "for lr, reg in sorted(results):\n",
    "    train_accuracy, val_accuracy = results[(lr, reg)]\n",
    "    print('lr %e reg %e train accuracy: %f val accuracy: %f' % (\n",
    "                lr, reg, train_accuracy, val_accuracy))\n",
    "    \n",
    "print('best validation accuracy achieved during cross-validation: %f' % best_val)"
   ]
  },
  {
   "cell_type": "code",
   "execution_count": 32,
   "metadata": {
    "collapsed": false
   },
   "outputs": [
    {
     "name": "stdout",
     "output_type": "stream",
     "text": [
      "(1000,)\n",
      "softmax on raw pixels final test set accuracy: 0.345000\n"
     ]
    }
   ],
   "source": [
    "# evaluate on test set\n",
    "# Evaluate the best softmax on test set\n",
    "y_test_pred = best_softmax.predict(X_test)\n",
    "test_accuracy = np.mean(y_test == y_test_pred)\n",
    "print('softmax on raw pixels final test set accuracy: %f' % (test_accuracy, ))"
   ]
  },
  {
   "cell_type": "code",
   "execution_count": 33,
   "metadata": {
    "collapsed": false
   },
   "outputs": [
    {
     "data": {
      "image/png": "[encoded data removed]",
      "text/plain": [
       "<matplotlib.figure.Figure at 0x7f31dadba3c8>"
      ]
     },
     "metadata": {},
     "output_type": "display_data"
    }
   ],
   "source": [
    "# Visualize the learned weights for each class\n",
    "w = best_softmax.W[:-1,:] # strip out the bias\n",
    "w = w.reshape(32, 32, 3, 10)\n",
    "\n",
    "w_min, w_max = np.min(w), np.max(w)\n",
    "\n",
    "classes = ['plane', 'car', 'bird', 'cat', 'deer', 'dog', 'frog', 'horse', 'ship', 'truck']\n",
    "for i in range(10):\n",
    "    plt.subplot(2, 5, i + 1)\n",
    "    \n",
    "    # Rescale the weights to be between 0 and 255\n",
    "    wimg = 255.0 * (w[:, :, :, i].squeeze() - w_min) / (w_max - w_min)\n",
    "    plt.imshow(wimg.astype('uint8'))\n",
    "    plt.axis('off')\n",
    "    plt.title(classes[i])"
   ]
  },
  {
   "cell_type": "code",
   "execution_count": null,
   "metadata": {
    "collapsed": true
   },
   "outputs": [],
   "source": []
  }
 ],
 "metadata": {
  "kernelspec": {
   "display_name": "Python 3",
   "language": "python",
   "name": "python3"
  },
  "language_info": {
   "codemirror_mode": {
    "name": "ipython",
    "version": 3
   },
   "file_extension": ".py",
   "mimetype": "text/x-python",
   "name": "python",
   "nbconvert_exporter": "python",
   "pygments_lexer": "ipython3",
   "version": "3.5.4"
  }
 },
 "nbformat": 4,
 "nbformat_minor": 0
}
